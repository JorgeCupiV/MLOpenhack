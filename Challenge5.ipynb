{
 "cells": [
  {
   "cell_type": "code",
   "execution_count": 16,
   "metadata": {},
   "outputs": [
    {
     "name": "stdout",
     "output_type": "stream",
     "text": [
      "1.0.6\n"
     ]
    }
   ],
   "source": [
    "import azureml.core\n",
    "import tensorflow as tf\n",
    "from azureml.core import Experiment\n",
    "from keras.models import load_model\n",
    "print(azureml.core.VERSION)"
   ]
  },
  {
   "cell_type": "code",
   "execution_count": 30,
   "metadata": {},
   "outputs": [
    {
     "name": "stdout",
     "output_type": "stream",
     "text": [
      "mlworkspace\n",
      "eastus\n",
      "ml-openhack-rg\n",
      "eastus\n"
     ]
    }
   ],
   "source": [
    "from azureml.core import Workspace\n",
    "ws = Workspace.get(name='mlworkspace',\n",
    "                      subscription_id='08cb84a2-122a-4813-a67e-88d3c2530ea1',    \n",
    "                      resource_group='ml-openhack-rg')\n",
    "\n",
    "print(ws.name, ws.location, ws.resource_group, ws.location, sep = '\\n')"
   ]
  },
  {
   "cell_type": "code",
   "execution_count": 4,
   "metadata": {},
   "outputs": [
    {
     "name": "stdout",
     "output_type": "stream",
     "text": [
      "Wrote the config file config.json to: /Users/macbook/Downloads/MLOpenhackSolutions/aml_config/config.json\n"
     ]
    }
   ],
   "source": [
    "# Writes the config from the workspace locally\n",
    "ws.write_config()\n",
    "\n",
    "# Use this code to load the workspace from \n",
    "# other scripts and notebooks in this directory.\n",
    "# ws = Workspace.from_config()"
   ]
  },
  {
   "cell_type": "markdown",
   "metadata": {},
   "source": [
    "The config.json contains this elements:\n",
    "\n",
    "```json\n",
    "{\n",
    "    \"subscription_id\": \"<azure-subscription-id>\",\n",
    "    \"resource_group\": \"myresourcegroup\",\n",
    "    \"workspace_name\": \"myworkspace\"\n",
    "}\n",
    "```"
   ]
  },
  {
   "cell_type": "code",
   "execution_count": 15,
   "metadata": {},
   "outputs": [
    {
     "name": "stdout",
     "output_type": "stream",
     "text": [
      "WARNING:tensorflow:No training configuration found in save file: the model was *not* compiled. Compile it manually.\n"
     ]
    }
   ],
   "source": [
    "model = tf.keras.models.load_model('challenge4.h5')"
   ]
  },
  {
   "cell_type": "code",
   "execution_count": 27,
   "metadata": {},
   "outputs": [
    {
     "name": "stdout",
     "output_type": "stream",
     "text": [
      "https://mlworkspace.azure.ai/portal/subscriptions/08cb84a2-122a-4813-a67e-88d3c2530ea1/resourceGroups/ml-openhack-rg/providers/Microsoft.MachineLearningServices/workspaces/mlworkspace/experiments/myexp/runs/0677782a-8e85-4daa-b578-4b0108fbc77c\n"
     ]
    }
   ],
   "source": [
    "# create a new experiment\n",
    "exp = Experiment(workspace=ws, name='myexp')\n",
    "\n",
    "# start a run\n",
    "run = exp.start_logging()\n",
    "\n",
    "# log a number\n",
    "run.log('my magic number', 23)\n",
    "\n",
    "# log a list (Fibonacci numbers)\n",
    "#run.log_list('my list', [1, 1, 2, 3, 5, 8, 13, 21, 34, 55, 89]) \n",
    "run.log_list('my list', [1,1,2,3,5,8,13])\n",
    "# finish the run\n",
    "run.complete()\n",
    "\n",
    "# To see the RUN in the workspace URL:\n",
    "print(run.get_portal_url())"
   ]
  },
  {
   "cell_type": "code",
   "execution_count": 28,
   "metadata": {},
   "outputs": [],
   "source": [
    "# To delete the whole workspace, including resources assigned such as:\n",
    "# storage, insights, keyvault and ACI registry\n",
    "# ws.delete(delete_dependent_resources=True)"
   ]
  },
  {
   "cell_type": "code",
   "execution_count": null,
   "metadata": {
    "collapsed": true
   },
   "outputs": [],
   "source": []
  }
 ],
 "metadata": {
  "kernelspec": {
   "display_name": "Python 3",
   "language": "python",
   "name": "python3"
  },
  "language_info": {
   "codemirror_mode": {
    "name": "ipython",
    "version": 3
   },
   "file_extension": ".py",
   "mimetype": "text/x-python",
   "name": "python",
   "nbconvert_exporter": "python",
   "pygments_lexer": "ipython3",
   "version": "3.6.3"
  }
 },
 "nbformat": 4,
 "nbformat_minor": 2
}
