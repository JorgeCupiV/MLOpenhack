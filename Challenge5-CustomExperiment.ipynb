{
 "cells": [
  {
   "cell_type": "code",
   "execution_count": 1,
   "metadata": {},
   "outputs": [
    {
     "name": "stdout",
     "output_type": "stream",
     "text": [
      "Azure ML SDK Version:  1.0.6\n"
     ]
    }
   ],
   "source": [
    "import azureml\n",
    "import azureml.core\n",
    "from azureml.core import Workspace, Run, Experiment\n",
    "from azureml.core.model import Model\n",
    "\n",
    "# check core SDK version number\n",
    "print(\"Azure ML SDK Version: \", azureml.core.VERSION)"
   ]
  },
  {
   "cell_type": "markdown",
   "metadata": {},
   "source": [
    "### Getting the workspace\n",
    "Can be done from a local json config file or using one straight from the Azure Service:"
   ]
  },
  {
   "cell_type": "code",
   "execution_count": 2,
   "metadata": {},
   "outputs": [
    {
     "name": "stdout",
     "output_type": "stream",
     "text": [
      "mlworkspace\n",
      "eastus\n",
      "ml-openhack-rg\n",
      "eastus\n"
     ]
    }
   ],
   "source": [
    "# ws = Workspace.from_config()\n",
    "\n",
    "# OR\n",
    "\n",
    "ws = Workspace.get(name='mlworkspace',\n",
    "                      subscription_id='08cb84a2-122a-4813-a67e-88d3c2530ea1',    \n",
    "                      resource_group='ml-openhack-rg')\n",
    "\n",
    "# ws.get_details()\n",
    "# OR\n",
    "print(ws.name, ws.location, ws.resource_group, ws.location, sep = '\\n')"
   ]
  },
  {
   "cell_type": "code",
   "execution_count": 3,
   "metadata": {
    "collapsed": true
   },
   "outputs": [],
   "source": [
    "experimentName = \"KerasExperiment\"\n",
    "exp = Experiment(workspace = ws, name = experimentName)"
   ]
  },
  {
   "cell_type": "code",
   "execution_count": 5,
   "metadata": {},
   "outputs": [
    {
     "name": "stdout",
     "output_type": "stream",
     "text": [
      "Registering model kerasModel\n",
      "The model has been registered\n"
     ]
    }
   ],
   "source": [
    "# register model \n",
    "modelName = 'kerasModel'\n",
    "modelPath = \"challenge4.h5\"\n",
    "model = Model.register(ws, modelPath, modelName, tags=None, properties=None, description=None)\n",
    "\n",
    "print(\"The model has been registered\")"
   ]
  },
  {
   "cell_type": "code",
   "execution_count": 6,
   "metadata": {},
   "outputs": [
    {
     "data": {
      "text/plain": [
       "'challenge4.h5'"
      ]
     },
     "execution_count": 6,
     "metadata": {},
     "output_type": "execute_result"
    }
   ],
   "source": [
    "# Retrieving a model\n",
    "# exist_ok = True overrides an existing model with the same name\n",
    "model=Model(ws, modelName)\n",
    "model.download(target_dir = '.', exist_ok= True)"
   ]
  },
  {
   "cell_type": "code",
   "execution_count": 50,
   "metadata": {},
   "outputs": [
    {
     "name": "stdout",
     "output_type": "stream",
     "text": [
      "Overwriting score.py\n"
     ]
    }
   ],
   "source": [
    "%%writefile score.py\n",
    "import json\n",
    "import numpy as np\n",
    "import os\n",
    "import tensorflow as tf\n",
    "import keras\n",
    "from azureml.core.model import Model\n",
    "from azureml.core import Workspace\n",
    "\n",
    "def init():\n",
    "    global model\n",
    "    modelName = 'kerasModel'\n",
    "    workspaceName = 'mlworkspace'\n",
    "    subscriptionId = '08cb84a2-122a-4813-a67e-88d3c2530ea1'\n",
    "    resourceGroup = 'ml-openhack-rg'\n",
    "    # retrieve the path to the model file using the model name\n",
    "    ws = Workspace.get(name = workspaceName,\n",
    "                       subscription_id = subscriptionId,    \n",
    "                       resource_group = resourceGroup)\n",
    "    \n",
    "    model_path = Model.get_model_path(modelName, version=None, _workspace=ws)\n",
    "    model = tf.keras.models.load_model(model_path)\n",
    "    \n",
    "def run(raw_data):\n",
    "    data = np.array(json.loads(raw_data)['data'])\n",
    "    results = model.predict(data)\n",
    "    return json.dumps(results.tolist())"
   ]
  },
  {
   "cell_type": "code",
   "execution_count": 51,
   "metadata": {},
   "outputs": [
    {
     "name": "stdout",
     "output_type": "stream",
     "text": [
      "Saved dependency info at env.yml\n"
     ]
    }
   ],
   "source": [
    "from azureml.core.conda_dependencies import CondaDependencies \n",
    "\n",
    "myEnv = CondaDependencies()\n",
    "myEnv.add_conda_package(\"keras\")\n",
    "myEnv.add_conda_package(\"tensorflow\")\n",
    "\n",
    "envFile = \"env.yml\"\n",
    "\n",
    "with open(envFile,\"w\") as f:\n",
    "    f.write(myEnv.serialize_to_string())\n",
    "print(\"Saved dependency info at\", envFile)"
   ]
  },
  {
   "cell_type": "code",
   "execution_count": 52,
   "metadata": {},
   "outputs": [
    {
     "name": "stdout",
     "output_type": "stream",
     "text": [
      "# Conda environment specification. The dependencies defined in this file will\n",
      "# be automatically provisioned for runs with userManagedDependencies=False.\n",
      "\n",
      "# Details about the Conda environment file format:\n",
      "# https://conda.io/docs/user-guide/tasks/manage-environments.html#create-env-file-manually\n",
      "\n",
      "name: project_environment\n",
      "dependencies:\n",
      "  # The python interpreter version.\n",
      "  # Currently Azure ML only supports 3.5.2 and later.\n",
      "- python=3.6.2\n",
      "\n",
      "- pip:\n",
      "    # Required packages for AzureML execution, history, and data preparation.\n",
      "  - azureml-defaults\n",
      "- keras\n",
      "- tensorflow\n",
      "\n"
     ]
    }
   ],
   "source": [
    "# Just reading the env file:\n",
    "with open(envFile,\"r\") as f:\n",
    "    print(f.read())"
   ]
  },
  {
   "cell_type": "code",
   "execution_count": 53,
   "metadata": {},
   "outputs": [
    {
     "name": "stdout",
     "output_type": "stream",
     "text": [
      "<azureml.core.webservice.aci.AciServiceDeploymentConfiguration object at 0x1820258cc0>\n"
     ]
    }
   ],
   "source": [
    "# Define config for deploying the container image as an ACI web service\n",
    "from azureml.core.webservice import AciWebservice\n",
    "\n",
    "aciConfig = AciWebservice.deploy_configuration(cpu_cores=1, \n",
    "                                               memory_gb=1, \n",
    "                                               tags={\"data\": \"shapes\",  \"method\" : \"classification\"}, \n",
    "                                               description='Service to classify retail items')\n",
    "print(aciConfig)"
   ]
  },
  {
   "cell_type": "code",
   "execution_count": 54,
   "metadata": {},
   "outputs": [
    {
     "name": "stdout",
     "output_type": "stream",
     "text": [
      "<azureml.core.image.container.ContainerImageConfig object at 0x1076d7e48>\n"
     ]
    }
   ],
   "source": [
    "# Configure the image\n",
    "from azureml.core.image import ContainerImage\n",
    "imageConfig = ContainerImage.image_configuration(execution_script=\"score.py\", \n",
    "                                                  runtime=\"python\", \n",
    "                                                  conda_file=\"env.yml\")\n",
    "print(imageConfig)"
   ]
  },
  {
   "cell_type": "code",
   "execution_count": 55,
   "metadata": {},
   "outputs": [
    {
     "name": "stdout",
     "output_type": "stream",
     "text": [
      "Registering model challenge4.h5\n",
      "Creating image\n",
      "Image creation operation finished for image keras-service:13, operation \"Succeeded\"\n",
      "Creating service\n",
      "Running..........................................................................................................\n",
      "TimedOutACI service creation operation finished, operation \"TimedOut\"\n",
      "Service creation polling reached terminal state, current service state: Unhealthy\n",
      "{\n",
      "  \"code\": \"AciHealthEndpointNotUp\",\n",
      "  \"message\": \"Health endpoint is not up\"\n",
      "}\n",
      "Unhealthy\n"
     ]
    }
   ],
   "source": [
    "# Deploying to ACI\n",
    "from azureml.core.webservice import Webservice\n",
    "\n",
    "# Service Name must be lowercase and with '-' or '.' characters\n",
    "serviceName = 'keras-service'\n",
    "modelFileName = 'challenge4.h5'\n",
    "\n",
    "service = Webservice.deploy(workspace = ws,\n",
    "                            name = serviceName,\n",
    "                            deployment_config = aciConfig,\n",
    "                            model_paths = [modelFileName],\n",
    "                            image_config = imageConfig)\n",
    "\n",
    "service.wait_for_deployment(show_output = True)\n",
    "print(service.state)"
   ]
  },
  {
   "cell_type": "code",
   "execution_count": 48,
   "metadata": {},
   "outputs": [
    {
     "name": "stdout",
     "output_type": "stream",
     "text": [
      "azureml-models/kerasModel/9/challenge4.h5\n",
      "WARNING:tensorflow:No training configuration found in save file: the model was *not* compiled. Compile it manually.\n",
      "<tensorflow.python.keras.engine.sequential.Sequential object at 0x18202ecc18>\n"
     ]
    }
   ],
   "source": [
    "from azureml.core.model import Model\n",
    "import keras\n",
    "import tensorflow as tf\n",
    "model_address = Model.get_model_path('kerasModel', version=None, _workspace=ws)\n",
    "print(model_address)\n",
    "model = tf.keras.models.load_model(model_address)\n",
    "print(model)"
   ]
  },
  {
   "cell_type": "code",
   "execution_count": null,
   "metadata": {
    "collapsed": true
   },
   "outputs": [],
   "source": []
  }
 ],
 "metadata": {
  "kernelspec": {
   "display_name": "Python 3",
   "language": "python",
   "name": "python3"
  },
  "language_info": {
   "codemirror_mode": {
    "name": "ipython",
    "version": 3
   },
   "file_extension": ".py",
   "mimetype": "text/x-python",
   "name": "python",
   "nbconvert_exporter": "python",
   "pygments_lexer": "ipython3",
   "version": "3.6.3"
  }
 },
 "nbformat": 4,
 "nbformat_minor": 2
}
